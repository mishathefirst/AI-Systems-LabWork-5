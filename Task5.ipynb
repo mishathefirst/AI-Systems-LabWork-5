{
  "nbformat": 4,
  "nbformat_minor": 0,
  "metadata": {
    "colab": {
      "name": "Task5.ipynb",
      "provenance": [],
      "include_colab_link": true
    },
    "kernelspec": {
      "display_name": "Python 3",
      "language": "python",
      "name": "python3"
    },
    "language_info": {
      "codemirror_mode": {
        "name": "ipython",
        "version": 3
      },
      "file_extension": ".py",
      "mimetype": "text/x-python",
      "name": "python",
      "nbconvert_exporter": "python",
      "pygments_lexer": "ipython3",
      "version": "3.7.3"
    }
  },
  "cells": [
    {
      "cell_type": "markdown",
      "metadata": {
        "id": "view-in-github",
        "colab_type": "text"
      },
      "source": [
        "<a href=\"https://colab.research.google.com/github/mishathefirst/AI-Systems-LabWork-5/blob/main/Task5.ipynb\" target=\"_parent\"><img src=\"https://colab.research.google.com/assets/colab-badge.svg\" alt=\"Open In Colab\"/></a>"
      ]
    },
    {
      "cell_type": "code",
      "metadata": {
        "colab": {
          "background_save": true,
          "base_uri": "https://localhost:8080/"
        },
        "id": "6mylimt6riS8",
        "outputId": "59f664bf-30a4-47b5-9ac9-cc0b6bf18ec9"
      },
      "source": [
        "!pip install --upgrade pip\n",
        "!pip install --upgrade scikit-learn==0.23.0"
      ],
      "execution_count": null,
      "outputs": [
        {
          "output_type": "stream",
          "text": [
            "Requirement already satisfied: pip in /usr/local/lib/python3.6/dist-packages (20.3.2)\n",
            "Collecting pip\n",
            "  Using cached pip-20.3.1-py2.py3-none-any.whl (1.5 MB)\n",
            "  Using cached pip-20.3.1.tar.gz (1.5 MB)\n",
            "  Installing build dependencies ... \u001b[?25l\u001b[?25hdone\n",
            "  Getting requirements to build wheel ... \u001b[?25l\u001b[?25hdone\n",
            "    Preparing wheel metadata ... \u001b[?25l\u001b[?25hdone\n",
            "  Using cached pip-20.3-py2.py3-none-any.whl (1.5 MB)\n",
            "  Using cached pip-20.3.tar.gz (1.5 MB)\n",
            "  Installing build dependencies ... \u001b[?25l\u001b[?25hdone\n",
            "  Getting requirements to build wheel ... \u001b[?25l\u001b[?25hdone\n",
            "    Preparing wheel metadata ... \u001b[?25l\u001b[?25hdone\n",
            "  Using cached pip-20.2.4-py2.py3-none-any.whl (1.5 MB)\n",
            "  Using cached pip-20.2.4.tar.gz (1.5 MB)\n",
            "  Installing build dependencies ... \u001b[?25l\u001b[?25hdone\n",
            "  Getting requirements to build wheel ... \u001b[?25l\u001b[?25hdone\n",
            "    Preparing wheel metadata ... \u001b[?25l\u001b[?25hdone\n",
            "  Using cached pip-20.2.3-py2.py3-none-any.whl (1.5 MB)\n",
            "  Using cached pip-20.2.3.tar.gz (1.5 MB)\n",
            "  Installing build dependencies ... \u001b[?25l\u001b[?25hdone\n",
            "  Getting requirements to build wheel ... \u001b[?25l\u001b[?25hdone\n",
            "    Preparing wheel metadata ... \u001b[?25l\u001b[?25hdone\n",
            "  Using cached pip-20.2.2-py2.py3-none-any.whl (1.5 MB)\n",
            "  Using cached pip-20.2.2.tar.gz (1.5 MB)\n",
            "  Installing build dependencies ... \u001b[?25l\u001b[?25hdone\n",
            "  Getting requirements to build wheel ... \u001b[?25l\u001b[?25hdone\n",
            "    Preparing wheel metadata ... \u001b[?25l\u001b[?25hdone\n",
            "  Using cached pip-20.2.1-py2.py3-none-any.whl (1.5 MB)\n",
            "  Using cached pip-20.2.1.tar.gz (1.5 MB)\n",
            "  Installing build dependencies ... \u001b[?25l\u001b[?25hdone\n",
            "  Getting requirements to build wheel ... \u001b[?25l\u001b[?25hdone\n",
            "    Preparing wheel metadata ... \u001b[?25l\u001b[?25hdone\n",
            "  Using cached pip-20.2-py2.py3-none-any.whl (1.5 MB)\n",
            "  Using cached pip-20.2.tar.gz (1.5 MB)\n",
            "  Installing build dependencies ... \u001b[?25l\u001b[?25hdone\n",
            "  Getting requirements to build wheel ... \u001b[?25l\u001b[?25hdone\n",
            "    Preparing wheel metadata ... \u001b[?25l\u001b[?25hdone\n",
            "  Using cached pip-20.1.1-py2.py3-none-any.whl (1.5 MB)\n",
            "  Using cached pip-20.1.1.tar.gz (1.5 MB)\n",
            "  Installing build dependencies ... \u001b[?25l\u001b[?25hdone\n",
            "  Getting requirements to build wheel ... \u001b[?25l\u001b[?25hdone\n",
            "    Preparing wheel metadata ... \u001b[?25l\u001b[?25hdone\n",
            "  Using cached pip-20.1-py2.py3-none-any.whl (1.5 MB)\n",
            "  Using cached pip-20.1.tar.gz (1.5 MB)\n",
            "  Installing build dependencies ... \u001b[?25l\u001b[?25hdone\n",
            "  Getting requirements to build wheel ... \u001b[?25l\u001b[?25hdone\n",
            "    Preparing wheel metadata ... \u001b[?25l\u001b[?25hdone\n",
            "  Using cached pip-20.0.2-py2.py3-none-any.whl (1.4 MB)\n",
            "  Using cached pip-20.0.2.tar.gz (1.4 MB)\n",
            "  Installing build dependencies ... \u001b[?25l\u001b[?25hdone\n",
            "  Getting requirements to build wheel ... \u001b[?25l\u001b[?25hdone\n",
            "    Preparing wheel metadata ... \u001b[?25l\u001b[?25hdone\n",
            "  Using cached pip-20.0.1-py2.py3-none-any.whl (1.5 MB)\n",
            "  Using cached pip-20.0.1.tar.gz (1.4 MB)\n",
            "  Installing build dependencies ... \u001b[?25l\u001b[?25hdone\n",
            "  Getting requirements to build wheel ... \u001b[?25l\u001b[?25hdone\n",
            "    Preparing wheel metadata ... \u001b[?25l\u001b[?25hdone\n",
            "  Using cached pip-19.3.1-py2.py3-none-any.whl (1.4 MB)\n",
            "  Using cached pip-19.3.1.tar.gz (1.4 MB)\n",
            "  Installing build dependencies ... \u001b[?25l\u001b[?25hdone\n",
            "  Getting requirements to build wheel ... \u001b[?25l\u001b[?25hdone\n",
            "    Preparing wheel metadata ... \u001b[?25l\u001b[?25hdone\n",
            "  Using cached pip-19.3-py2.py3-none-any.whl (1.4 MB)\n",
            "  Using cached pip-19.3.tar.gz (1.4 MB)\n",
            "  Installing build dependencies ... \u001b[?25l\u001b[?25hdone\n",
            "  Getting requirements to build wheel ... \u001b[?25l\u001b[?25hdone\n",
            "    Preparing wheel metadata ... \u001b[?25l\u001b[?25hdone\n",
            "  Using cached pip-19.2.3-py2.py3-none-any.whl (1.4 MB)\n",
            "  Using cached pip-19.2.3.tar.gz (1.4 MB)\n",
            "  Installing build dependencies ... \u001b[?25l\u001b[?25hdone\n",
            "  Getting requirements to build wheel ... \u001b[?25l\u001b[?25hdone\n",
            "    Preparing wheel metadata ... \u001b[?25l\u001b[?25hdone\n",
            "  Using cached pip-19.2.2-py2.py3-none-any.whl (1.4 MB)\n",
            "  Using cached pip-19.2.2.tar.gz (1.4 MB)\n",
            "  Installing build dependencies ... \u001b[?25l\u001b[?25hdone\n",
            "  Getting requirements to build wheel ... \u001b[?25l\u001b[?25hdone\n",
            "    Preparing wheel metadata ... \u001b[?25l\u001b[?25hdone\n",
            "  Using cached pip-19.2.1-py2.py3-none-any.whl (1.4 MB)\n",
            "  Using cached pip-19.2.1.tar.gz (1.4 MB)\n",
            "  Installing build dependencies ... \u001b[?25l\u001b[?25hdone\n",
            "  Getting requirements to build wheel ... \u001b[?25l\u001b[?25hdone\n",
            "    Preparing wheel metadata ... \u001b[?25l\u001b[?25hdone\n",
            "  Using cached pip-19.2-py2.py3-none-any.whl (1.4 MB)\n",
            "  Using cached pip-19.2.tar.gz (1.4 MB)\n",
            "  Installing build dependencies ... \u001b[?25l\u001b[?25hdone\n",
            "  Getting requirements to build wheel ... \u001b[?25l\u001b[?25hdone\n",
            "    Preparing wheel metadata ... \u001b[?25l\u001b[?25hdone\n",
            "  Using cached pip-19.1.1-py2.py3-none-any.whl (1.4 MB)\n",
            "  Using cached pip-19.1.1.tar.gz (1.3 MB)\n",
            "  Installing build dependencies ... \u001b[?25l\u001b[?25hdone\n",
            "  Getting requirements to build wheel ... \u001b[?25l\u001b[?25hdone\n",
            "    Preparing wheel metadata ... \u001b[?25l\u001b[?25hdone\n",
            "  Using cached pip-19.1-py2.py3-none-any.whl (1.4 MB)\n",
            "  Using cached pip-19.1.tar.gz (1.3 MB)\n",
            "  Installing build dependencies ... \u001b[?25l\u001b[?25hdone\n",
            "  Getting requirements to build wheel ... \u001b[?25l\u001b[?25hdone\n",
            "    Preparing wheel metadata ... \u001b[?25l\u001b[?25hdone\n",
            "  Using cached pip-19.0.3-py2.py3-none-any.whl (1.4 MB)\n",
            "  Using cached pip-19.0.3.tar.gz (1.3 MB)\n",
            "  Installing build dependencies ... \u001b[?25l\u001b[?25hdone\n",
            "  Getting requirements to build wheel ... \u001b[?25l\u001b[?25hdone\n",
            "    Preparing wheel metadata ... \u001b[?25l\u001b[?25hdone\n",
            "  Using cached pip-19.0.2-py2.py3-none-any.whl (1.4 MB)\n",
            "  Using cached pip-19.0.2.tar.gz (1.3 MB)\n",
            "  Installing build dependencies ... \u001b[?25l\u001b[?25hdone\n",
            "  Getting requirements to build wheel ... \u001b[?25l\u001b[?25hdone\n",
            "    Preparing wheel metadata ... \u001b[?25l\u001b[?25hdone\n",
            "  Using cached pip-19.0.1-py2.py3-none-any.whl (1.4 MB)\n",
            "  Using cached pip-19.0.1.tar.gz (1.3 MB)\n",
            "  Installing build dependencies ... \u001b[?25l\u001b[?25hdone\n",
            "  Getting requirements to build wheel ... \u001b[?25l\u001b[?25hdone\n",
            "    Preparing wheel metadata ... \u001b[?25l\u001b[?25hdone\n",
            "  Using cached pip-19.0-py2.py3-none-any.whl (1.4 MB)\n",
            "  Using cached pip-19.0.tar.gz (1.3 MB)\n",
            "  Installing build dependencies ... \u001b[?25l\u001b[?25hdone\n",
            "  Getting requirements to build wheel ... \u001b[?25l\u001b[?25hdone\n",
            "    Preparing wheel metadata ... \u001b[?25l\u001b[?25hdone\n",
            "  Using cached pip-18.1-py2.py3-none-any.whl (1.3 MB)\n",
            "  Using cached pip-18.1.tar.gz (1.3 MB)\n",
            "  Installing build dependencies ... \u001b[?25l\u001b[?25hdone\n",
            "  Getting requirements to build wheel ... \u001b[?25l\u001b[?25hdone\n",
            "    Preparing wheel metadata ... \u001b[?25l\u001b[?25hdone\n",
            "  Using cached pip-18.0-py2.py3-none-any.whl (1.3 MB)\n",
            "  Using cached pip-18.0.tar.gz (1.2 MB)\n",
            "  Installing build dependencies ... \u001b[?25l\u001b[?25hdone\n",
            "  Getting requirements to build wheel ... \u001b[?25l\u001b[?25hdone\n",
            "    Preparing wheel metadata ... \u001b[?25l\u001b[?25hdone\n",
            "  Using cached pip-10.0.1-py2.py3-none-any.whl (1.3 MB)\n",
            "  Using cached pip-10.0.1.tar.gz (1.2 MB)\n",
            "  Installing build dependencies ... \u001b[?25l\u001b[?25hdone\n",
            "  Getting requirements to build wheel ... \u001b[?25l\u001b[?25hdone\n",
            "    Preparing wheel metadata ... \u001b[?25l\u001b[?25hdone\n",
            "  Using cached pip-10.0.0-py2.py3-none-any.whl (1.3 MB)\n",
            "  Using cached pip-10.0.0.tar.gz (1.2 MB)\n",
            "  Installing build dependencies ... \u001b[?25l\u001b[?25hdone\n",
            "  Getting requirements to build wheel ... \u001b[?25l\u001b[?25hdone\n",
            "    Preparing wheel metadata ... \u001b[?25l\u001b[?25hdone\n",
            "  Using cached pip-9.0.3-py2.py3-none-any.whl (1.4 MB)\n",
            "  Using cached pip-9.0.3.tar.gz (1.3 MB)\n",
            "  Using cached pip-9.0.2-py2.py3-none-any.whl (1.4 MB)\n",
            "  Using cached pip-9.0.2.tar.gz (1.3 MB)\n",
            "  Using cached pip-9.0.1-py2.py3-none-any.whl (1.3 MB)\n",
            "  Using cached pip-9.0.1.tar.gz (1.2 MB)\n",
            "  Using cached pip-9.0.0-py2.py3-none-any.whl (1.3 MB)\n",
            "  Using cached pip-9.0.0.tar.gz (1.2 MB)\n",
            "  Using cached pip-8.1.2-py2.py3-none-any.whl (1.2 MB)\n",
            "  Using cached pip-8.1.2.tar.gz (1.1 MB)\n",
            "  Using cached pip-8.1.1-py2.py3-none-any.whl (1.2 MB)\n",
            "  Using cached pip-8.1.1.tar.gz (1.1 MB)\n",
            "  Using cached pip-8.1.0-py2.py3-none-any.whl (1.2 MB)\n",
            "  Using cached pip-8.1.0.tar.gz (1.1 MB)\n",
            "  Using cached pip-8.0.3-py2.py3-none-any.whl (1.2 MB)\n",
            "  Using cached pip-8.0.3.tar.gz (1.1 MB)\n",
            "  Using cached pip-8.0.2-py2.py3-none-any.whl (1.2 MB)\n",
            "  Using cached pip-8.0.2.tar.gz (1.1 MB)\n",
            "  Using cached pip-8.0.1-py2.py3-none-any.whl (1.2 MB)\n",
            "  Using cached pip-8.0.1.tar.gz (1.1 MB)\n",
            "  Using cached pip-8.0.0-py2.py3-none-any.whl (1.2 MB)\n",
            "  Using cached pip-8.0.0.tar.gz (1.1 MB)\n",
            "  Using cached pip-7.1.2-py2.py3-none-any.whl (1.1 MB)\n",
            "  Using cached pip-7.1.2.tar.gz (1.0 MB)\n",
            "  Using cached pip-7.1.1-py2.py3-none-any.whl (1.1 MB)\n",
            "  Using cached pip-7.1.1.tar.gz (1.0 MB)\n",
            "  Using cached pip-7.1.0-py2.py3-none-any.whl (1.1 MB)\n",
            "  Using cached pip-7.1.0.tar.gz (1.0 MB)\n",
            "  Using cached pip-7.0.3-py2.py3-none-any.whl (1.1 MB)\n",
            "  Using cached pip-7.0.3.tar.gz (1.1 MB)\n",
            "  Using cached pip-7.0.2-py2.py3-none-any.whl (1.1 MB)\n",
            "  Using cached pip-7.0.2.tar.gz (1.1 MB)\n",
            "  Using cached pip-7.0.1-py2.py3-none-any.whl (1.1 MB)\n",
            "  Using cached pip-7.0.1.tar.gz (1.1 MB)\n",
            "  Using cached pip-7.0.0-py2.py3-none-any.whl (1.1 MB)\n",
            "  Using cached pip-7.0.0.tar.gz (1.1 MB)\n",
            "  Using cached pip-6.1.1-py2.py3-none-any.whl (1.1 MB)\n",
            "  Using cached pip-6.1.1.tar.gz (1.1 MB)\n",
            "  Using cached pip-6.1.0-py2.py3-none-any.whl (1.1 MB)\n",
            "  Using cached pip-6.1.0.tar.gz (1.1 MB)\n",
            "  Using cached pip-6.0.8-py2.py3-none-any.whl (1.3 MB)\n",
            "  Using cached pip-6.0.8.tar.gz (1.2 MB)\n",
            "  Using cached pip-6.0.7-py2.py3-none-any.whl (1.3 MB)\n",
            "  Using cached pip-6.0.7.tar.gz (1.2 MB)\n",
            "  Using cached pip-6.0.6-py2.py3-none-any.whl (1.3 MB)\n",
            "  Using cached pip-6.0.6.tar.gz (1.2 MB)\n",
            "  Using cached pip-6.0.5-py2.py3-none-any.whl (1.3 MB)\n",
            "  Using cached pip-6.0.5.tar.gz (1.2 MB)\n",
            "  Using cached pip-6.0.4-py2.py3-none-any.whl (1.3 MB)\n",
            "  Using cached pip-6.0.4.tar.gz (1.2 MB)\n",
            "  Using cached pip-6.0.3-py2.py3-none-any.whl (1.3 MB)\n",
            "  Using cached pip-6.0.3.tar.gz (1.2 MB)\n",
            "  Using cached pip-6.0.2-py2.py3-none-any.whl (1.3 MB)\n",
            "  Using cached pip-6.0.2.tar.gz (1.2 MB)\n",
            "  Using cached pip-6.0.1-py2.py3-none-any.whl (1.3 MB)\n",
            "  Using cached pip-6.0.1.tar.gz (1.2 MB)\n",
            "  Using cached pip-6.0-py2.py3-none-any.whl (1.3 MB)\n",
            "  Using cached pip-6.0.tar.gz (1.2 MB)\n",
            "  Using cached pip-1.5.6-py2.py3-none-any.whl (1.0 MB)\n",
            "  Using cached pip-1.5.6.tar.gz (938 kB)\n",
            "  Using cached pip-1.5.5-py2.py3-none-any.whl (1.2 MB)\n",
            "  Using cached pip-1.5.5.tar.gz (1.1 MB)\n",
            "  Using cached pip-1.5.4-py2.py3-none-any.whl (1.2 MB)\n",
            "  Using cached pip-1.5.4.tar.gz (1.1 MB)\n",
            "  Using cached pip-1.5.3-py2.py3-none-any.whl (1.2 MB)\n",
            "  Using cached pip-1.5.3.tar.gz (1.1 MB)\n",
            "  Using cached pip-1.5.2-py2.py3-none-any.whl (1.2 MB)\n",
            "  Using cached pip-1.5.2.tar.gz (1.1 MB)\n",
            "  Using cached pip-1.5.1-py2.py3-none-any.whl (1.2 MB)\n",
            "  Using cached pip-1.5.1.tar.gz (1.1 MB)\n",
            "  Using cached pip-1.5.tar.gz (898 kB)\n",
            "  Using cached pip-1.4.1.tar.gz (445 kB)\n",
            "  Using cached pip-1.4.tar.gz (443 kB)\n",
            "  Using cached pip-1.3.1.tar.gz (247 kB)\n",
            "  Using cached pip-1.3.tar.gz (247 kB)\n",
            "  Using cached pip-1.2.1.tar.gz (102 kB)\n",
            "  Using cached pip-1.2.tar.gz (94 kB)\n",
            "  Using cached pip-1.1.tar.gz (95 kB)\n",
            "  Downloading pip-1.0.2.tar.gz (105 kB)\n",
            "\u001b[K     |████████████████████████████████| 105 kB 6.1 MB/s \n",
            "\u001b[?25h  Downloading pip-1.0.1.tar.gz (104 kB)\n",
            "\u001b[K     |████████████████████████████████| 104 kB 17.1 MB/s \n",
            "\u001b[?25h  Downloading pip-1.0.tar.gz (100 kB)\n",
            "\u001b[K     |████████████████████████████████| 100 kB 6.2 MB/s \n",
            "\u001b[?25h  Downloading pip-0.8.3.tar.gz (107 kB)\n",
            "\u001b[K     |████████████████████████████████| 107 kB 9.6 MB/s \n",
            "\u001b[?25h  Downloading pip-0.8.2.tar.gz (106 kB)\n",
            "\u001b[K     |████████████████████████████████| 106 kB 15.4 MB/s \n",
            "\u001b[?25h  Downloading pip-0.8.1.tar.gz (105 kB)\n",
            "\u001b[K     |████████████████████████████████| 105 kB 15.9 MB/s \n",
            "\u001b[?25h  Downloading pip-0.8.tar.gz (98 kB)\n",
            "\u001b[K     |████████████████████████████████| 98 kB 5.1 MB/s \n",
            "\u001b[?25h  Downloading pip-0.7.2.tar.gz (68 kB)\n",
            "\u001b[K     |████████████████████████████████| 68 kB 4.8 MB/s \n",
            "\u001b[?25h  Downloading pip-0.7.1.tar.gz (82 kB)\n",
            "\u001b[K     |████████████████████████████████| 82 kB 579 kB/s \n",
            "\u001b[?25h  Downloading pip-0.7.tar.gz (68 kB)\n",
            "\u001b[K     |████████████████████████████████| 68 kB 4.5 MB/s \n",
            "\u001b[?25h  Downloading pip-0.6.3.tar.gz (71 kB)\n",
            "\u001b[K     |████████████████████████████████| 71 kB 5.1 MB/s \n",
            "\u001b[?25h  Downloading pip-0.6.2.tar.gz (70 kB)\n",
            "\u001b[K     |████████████████████████████████| 70 kB 5.7 MB/s \n",
            "\u001b[?25h  Downloading pip-0.6.1.tar.gz (55 kB)\n",
            "\u001b[K     |████████████████████████████████| 55 kB 3.1 MB/s \n",
            "\u001b[?25h  Downloading pip-0.6.tar.gz (64 kB)\n",
            "\u001b[K     |████████████████████████████████| 64 kB 2.3 MB/s \n",
            "\u001b[?25h  Downloading pip-0.5.1.tar.gz (54 kB)\n",
            "\u001b[K     |████████████████████████████████| 54 kB 2.7 MB/s \n",
            "\u001b[?25h  Downloading pip-0.5.tar.gz (53 kB)\n",
            "\u001b[K     |████████████████████████████████| 53 kB 2.1 MB/s \n",
            "\u001b[?25h  Downloading pip-0.4.tar.gz (50 kB)\n",
            "\u001b[K     |████████████████████████████████| 50 kB 4.8 MB/s \n",
            "\u001b[?25h  Downloading pip-0.3.1.tar.gz (48 kB)\n",
            "\u001b[K     |████████████████████████████████| 48 kB 4.5 MB/s \n",
            "\u001b[?25h  Downloading pip-0.3.tar.gz (47 kB)\n",
            "\u001b[K     |████████████████████████████████| 47 kB 4.1 MB/s \n",
            "\u001b[33mWARNING: Discarding https://files.pythonhosted.org/packages/17/05/f66144ef69b436d07f8eeeb28b7f77137f80de4bf60349ec6f0f9509e801/pip-0.3.tar.gz#sha256=183c72455cb7f8860ac1376f8c4f14d7f545aeab8ee7c22cd4caf79f35a2ed47 (from https://pypi.org/simple/pip/). Requested pip from https://files.pythonhosted.org/packages/17/05/f66144ef69b436d07f8eeeb28b7f77137f80de4bf60349ec6f0f9509e801/pip-0.3.tar.gz#sha256=183c72455cb7f8860ac1376f8c4f14d7f545aeab8ee7c22cd4caf79f35a2ed47 has different version in metadata: '0.3.dev0'\u001b[0m\n",
            "\u001b[?25h  Downloading pip-0.2.1.tar.gz (39 kB)\n",
            "  Downloading pip-0.2.tar.gz (38 kB)\n",
            "Requirement already satisfied: scikit-learn==0.23.0 in /usr/local/lib/python3.6/dist-packages (0.23.0)\n",
            "Collecting scikit-learn==0.23.0\n",
            "  Using cached scikit_learn-0.23.0-cp36-cp36m-manylinux1_x86_64.whl (7.3 MB)\n",
            "  Using cached scikit-learn-0.23.0.tar.gz (7.2 MB)\n",
            "  Installing build dependencies ... \u001b[?25l\u001b[?25hdone\n",
            "  Getting requirements to build wheel ... \u001b[?25l\u001b[?25hdone\n",
            "    Preparing wheel metadata ... \u001b[?25l\u001b[?25hdone\n",
            "Requirement already satisfied: numpy>=1.13.3 in /usr/local/lib/python3.6/dist-packages (from scikit-learn==0.23.0) (1.18.5)\n",
            "Requirement already satisfied: joblib>=0.11 in /usr/local/lib/python3.6/dist-packages (from scikit-learn==0.23.0) (0.17.0)\n",
            "Requirement already satisfied: threadpoolctl>=2.0.0 in /usr/local/lib/python3.6/dist-packages (from scikit-learn==0.23.0) (2.1.0)\n",
            "Requirement already satisfied: scipy>=0.19.1 in /usr/local/lib/python3.6/dist-packages (from scikit-learn==0.23.0) (1.4.1)\n"
          ],
          "name": "stdout"
        }
      ]
    },
    {
      "cell_type": "code",
      "metadata": {
        "id": "ypb6Q_kPriTB"
      },
      "source": [
        "import numpy as np\n",
        "import matplotlib\n",
        "import matplotlib.pyplot as plt\n",
        "%matplotlib inline"
      ],
      "execution_count": null,
      "outputs": []
    },
    {
      "cell_type": "markdown",
      "metadata": {
        "id": "cWbFusobriTC"
      },
      "source": [
        "MNIST - датасет образцов рукописного написания цифр, является стандартом, предложенным Национальным институтом стандартов и технологий США с целью калибрации и сопоставления методов распознавания изображений с помощью машинного обучения. Образцы из набора NIST были нормализированы, прошли сглаживание и приведены к серому полутоновому изображению размером 28x28 пикселей. "
      ]
    },
    {
      "cell_type": "code",
      "metadata": {
        "id": "IVwItz6uriTC"
      },
      "source": [
        "from keras.datasets import mnist\n",
        "(X_train, y_train), (X_pred, y_pred) = mnist.load_data()"
      ],
      "execution_count": null,
      "outputs": []
    },
    {
      "cell_type": "markdown",
      "metadata": {
        "id": "ZPNWm3BxriTC"
      },
      "source": [
        "Первый элемент"
      ]
    },
    {
      "cell_type": "code",
      "metadata": {
        "colab": {
          "base_uri": "https://localhost:8080/",
          "height": 298
        },
        "id": "qMpTCdFsriTD",
        "outputId": "9cf4373a-6049-41fd-d4c3-016438f43dd3"
      },
      "source": [
        "plt.title(\"Нулевой объект из тренировочного набора:\")\n",
        "plt.imshow(X_train[0], cmap=\"gray\")"
      ],
      "execution_count": null,
      "outputs": [
        {
          "output_type": "execute_result",
          "data": {
            "text/plain": [
              "<matplotlib.image.AxesImage at 0x7fc8cf75e128>"
            ]
          },
          "metadata": {
            "tags": []
          },
          "execution_count": 7
        },
        {
          "output_type": "display_data",
          "data": {
            "image/png": "[encoded data removed]",
            "text/plain": [
              "<Figure size 432x288 with 1 Axes>"
            ]
          },
          "metadata": {
            "tags": []
          }
        }
      ]
    },
    {
      "cell_type": "markdown",
      "metadata": {
        "id": "v8I_Ddw9riTD"
      },
      "source": [
        "И его отклик"
      ]
    },
    {
      "cell_type": "code",
      "metadata": {
        "colab": {
          "base_uri": "https://localhost:8080/"
        },
        "id": "xXiz7MaoriTD",
        "outputId": "c77b856c-bf8f-45c2-be19-7492c1bac51b"
      },
      "source": [
        "y_train[0]"
      ],
      "execution_count": null,
      "outputs": [
        {
          "output_type": "execute_result",
          "data": {
            "text/plain": [
              "6"
            ]
          },
          "metadata": {
            "tags": []
          },
          "execution_count": 34
        }
      ]
    },
    {
      "cell_type": "markdown",
      "metadata": {
        "id": "QZllf224riTE"
      },
      "source": [
        "Для разделения данных используем функцию train_test_split из библиотеки sklearn. Следующий код разделяет исходные данные в отношении 70/30."
      ]
    },
    {
      "cell_type": "code",
      "metadata": {
        "id": "7eEA2YrariTE"
      },
      "source": [
        "from sklearn.model_selection import train_test_split\n",
        "\n",
        "X_train, X_test, y_train, y_test = train_test_split(X_train, y_train, test_size=0.3, random_state=2020)\n",
        "#x_test = X_test[:60000]\n",
        "#y_test = y_test[:60000]"
      ],
      "execution_count": null,
      "outputs": []
    },
    {
      "cell_type": "markdown",
      "metadata": {
        "id": "GGHTYAXlriTE"
      },
      "source": [
        "Преобразуем данные"
      ]
    },
    {
      "cell_type": "code",
      "metadata": {
        "colab": {
          "base_uri": "https://localhost:8080/",
          "height": 231
        },
        "id": "rjStleVSriTE",
        "outputId": "a4229f14-6d36-409a-802c-fa4663874410"
      },
      "source": [
        "dim = 784 # 28*28 \n",
        "X_train = X_train.reshape(len(X_train), dim)\n",
        "X_test = X_test.reshape(len(X_test), dim)\n",
        "#x_test = X_test[::60000]\n",
        "#y_test = Y_test[::60000]"
      ],
      "execution_count": null,
      "outputs": [
        {
          "output_type": "error",
          "ename": "ValueError",
          "evalue": "ignored",
          "traceback": [
            "\u001b[0;31m---------------------------------------------------------------------------\u001b[0m",
            "\u001b[0;31mValueError\u001b[0m                                Traceback (most recent call last)",
            "\u001b[0;32m<ipython-input-36-803e43d6d789>\u001b[0m in \u001b[0;36m<module>\u001b[0;34m()\u001b[0m\n\u001b[1;32m      1\u001b[0m \u001b[0mdim\u001b[0m \u001b[0;34m=\u001b[0m \u001b[0;36m784\u001b[0m \u001b[0;31m# 28*28\u001b[0m\u001b[0;34m\u001b[0m\u001b[0;34m\u001b[0m\u001b[0m\n\u001b[0;32m----> 2\u001b[0;31m \u001b[0mX_train\u001b[0m \u001b[0;34m=\u001b[0m \u001b[0mX_train\u001b[0m\u001b[0;34m.\u001b[0m\u001b[0mreshape\u001b[0m\u001b[0;34m(\u001b[0m\u001b[0mlen\u001b[0m\u001b[0;34m(\u001b[0m\u001b[0mX_train\u001b[0m\u001b[0;34m)\u001b[0m\u001b[0;34m,\u001b[0m \u001b[0mdim\u001b[0m\u001b[0;34m)\u001b[0m\u001b[0;34m\u001b[0m\u001b[0;34m\u001b[0m\u001b[0m\n\u001b[0m\u001b[1;32m      3\u001b[0m \u001b[0mX_test\u001b[0m \u001b[0;34m=\u001b[0m \u001b[0mX_test\u001b[0m\u001b[0;34m.\u001b[0m\u001b[0mreshape\u001b[0m\u001b[0;34m(\u001b[0m\u001b[0mlen\u001b[0m\u001b[0;34m(\u001b[0m\u001b[0mX_test\u001b[0m\u001b[0;34m)\u001b[0m\u001b[0;34m,\u001b[0m \u001b[0mdim\u001b[0m\u001b[0;34m)\u001b[0m\u001b[0;34m\u001b[0m\u001b[0;34m\u001b[0m\u001b[0m\n\u001b[1;32m      4\u001b[0m \u001b[0;31m#x_test = X_test[::60000]\u001b[0m\u001b[0;34m\u001b[0m\u001b[0;34m\u001b[0m\u001b[0;34m\u001b[0m\u001b[0m\n\u001b[1;32m      5\u001b[0m \u001b[0;31m#y_test = Y_test[::60000]\u001b[0m\u001b[0;34m\u001b[0m\u001b[0;34m\u001b[0m\u001b[0;34m\u001b[0m\u001b[0m\n",
            "\u001b[0;31mValueError\u001b[0m: cannot reshape array of size 49400 into shape (4940,784)"
          ]
        }
      ]
    },
    {
      "cell_type": "markdown",
      "metadata": {
        "id": "N-fb_RlWriTE"
      },
      "source": [
        "Уменьшим размерность тестовых данных"
      ]
    },
    {
      "cell_type": "code",
      "metadata": {
        "id": "GNUzSgSkriTE"
      },
      "source": [
        "from sklearn.decomposition import PCA\n",
        "\n",
        "pca = PCA(n_components=10, svd_solver='full')\n",
        "modelPCA = pca.fit(X_train) \n",
        "\n",
        "X_train = modelPCA.transform(X_train)\n",
        "\n"
      ],
      "execution_count": null,
      "outputs": []
    },
    {
      "cell_type": "markdown",
      "metadata": {
        "id": "gjzPEdWgriTF"
      },
      "source": [
        "Найдем долю объясненной дисперсии в зависимости от количества используемых ГК"
      ]
    },
    {
      "cell_type": "code",
      "metadata": {
        "colab": {
          "base_uri": "https://localhost:8080/"
        },
        "id": "XmrnfyUzriTF",
        "outputId": "dc16c790-b693-476e-cc41-7a218c1b272f"
      },
      "source": [
        "explained_variance = np.round(np.cumsum(pca.explained_variance_ratio_),3)\n",
        "explained_variance\n"
      ],
      "execution_count": null,
      "outputs": [
        {
          "output_type": "execute_result",
          "data": {
            "text/plain": [
              "array([0.097, 0.168, 0.23 , 0.284, 0.333, 0.376, 0.408, 0.437, 0.465,\n",
              "       0.488])"
            ]
          },
          "metadata": {
            "tags": []
          },
          "execution_count": 13
        }
      ]
    },
    {
      "cell_type": "code",
      "metadata": {
        "colab": {
          "base_uri": "https://localhost:8080/",
          "height": 283
        },
        "id": "Nr7ll7eZriTF",
        "outputId": "ddbf04b1-98d9-46e6-8476-c930e427d484"
      },
      "source": [
        "plt.plot(np.arange(10), explained_variance, ls = '-')"
      ],
      "execution_count": null,
      "outputs": [
        {
          "output_type": "execute_result",
          "data": {
            "text/plain": [
              "[<matplotlib.lines.Line2D at 0x7fc8c2fe06d8>]"
            ]
          },
          "metadata": {
            "tags": []
          },
          "execution_count": 14
        },
        {
          "output_type": "display_data",
          "data": {
            "image/png": "[encoded data removed]",
            "text/plain": [
              "<Figure size 432x288 with 1 Axes>"
            ]
          },
          "metadata": {
            "tags": []
          }
        }
      ]
    },
    {
      "cell_type": "markdown",
      "metadata": {
        "id": "q4ujjG5VriTF"
      },
      "source": [
        "Подключаем библиотеку для обучения многоклассового классификатора методом One-vs-All и дерево принятия решений"
      ]
    },
    {
      "cell_type": "code",
      "metadata": {
        "id": "hgomFvbfriTF"
      },
      "source": [
        "from sklearn.multiclass import OneVsRestClassifier\n",
        "from sklearn.tree import DecisionTreeClassifier\n",
        "from sklearn.ensemble import RandomForestClassifier"
      ],
      "execution_count": null,
      "outputs": []
    },
    {
      "cell_type": "code",
      "metadata": {
        "id": "f56wpLrtriTG"
      },
      "source": [
        "tree = RandomForestClassifier(criterion='gini', min_samples_leaf=10, max_depth=20, n_estimators=10, random_state=2020)\n",
        "clf = OneVsRestClassifier(tree).fit(X_train, y_train)"
      ],
      "execution_count": null,
      "outputs": []
    },
    {
      "cell_type": "markdown",
      "metadata": {
        "id": "AhjCLHH8riTG"
      },
      "source": [
        "Примените полученное ранее преобразование метода главных компонент к тестовым данным"
      ]
    },
    {
      "cell_type": "code",
      "metadata": {
        "colab": {
          "base_uri": "https://localhost:8080/"
        },
        "id": "6INpkePEriTG",
        "outputId": "e65ebfea-edea-43b4-c2a7-e9d13ce67b42"
      },
      "source": [
        "len(X_test[0])"
      ],
      "execution_count": null,
      "outputs": [
        {
          "output_type": "execute_result",
          "data": {
            "text/plain": [
              "784"
            ]
          },
          "metadata": {
            "tags": []
          },
          "execution_count": 17
        }
      ]
    },
    {
      "cell_type": "code",
      "metadata": {
        "id": "EwR--rKIriTG"
      },
      "source": [
        "modelPCA = pca.fit(X_test) \n",
        "X_test = modelPCA.transform(X_test)"
      ],
      "execution_count": null,
      "outputs": []
    },
    {
      "cell_type": "code",
      "metadata": {
        "id": "nARfxPwnriTG"
      },
      "source": [
        "y_pred = clf.predict(X_test)"
      ],
      "execution_count": null,
      "outputs": []
    },
    {
      "cell_type": "code",
      "metadata": {
        "id": "O0E6D_yUriTG"
      },
      "source": [
        "from sklearn.metrics import confusion_matrix\n",
        "CM = confusion_matrix(y_test, y_pred)"
      ],
      "execution_count": null,
      "outputs": []
    },
    {
      "cell_type": "code",
      "metadata": {
        "colab": {
          "base_uri": "https://localhost:8080/"
        },
        "id": "1E2LBkDCriTH",
        "outputId": "756cc50c-5342-4106-a378-dce6e8e1fb52"
      },
      "source": [
        "CM"
      ],
      "execution_count": null,
      "outputs": [
        {
          "output_type": "execute_result",
          "data": {
            "text/plain": [
              "array([[1159,    1,   22,    5,   15,   30,   32,   11,    6,   12],\n",
              "       [   0,   95,   10,    4,  378,    0,    7,  685,    1,  236],\n",
              "       [  21,    0,  670,   19,  218,    6,  100,  111,   45,   72],\n",
              "       [   7,    1,   19,  221,  149,   88,   10,  312,   53,  430],\n",
              "       [   3,   23,  496,  150,   31,   44,   97,    1,  362,    7],\n",
              "       [  49,    0,   30,   10,   39,  792,   24,   79,   36,   99],\n",
              "       [   7,    0,  142,    0,  103,   13,  919,    9,    1,   10],\n",
              "       [  45,   93,  132,  775,    7,   52,    5,  119,   87,    3],\n",
              "       [   5,    0,   20,   29,  116,   38,    4,   44,  637,  295],\n",
              "       [   7,   41,  202,  251,   10,  131,   25,   15,  548,   27]])"
            ]
          },
          "metadata": {
            "tags": []
          },
          "execution_count": 21
        }
      ]
    },
    {
      "cell_type": "markdown",
      "metadata": {
        "id": "2h3ZVdzariTH"
      },
      "source": [
        "Число верно классифицирвоанных объектов класс 0"
      ]
    },
    {
      "cell_type": "code",
      "metadata": {
        "colab": {
          "base_uri": "https://localhost:8080/"
        },
        "id": "aJ-A4IilriTH",
        "outputId": "93059021-ccc9-47a1-c3c5-3d82f7fe0b53"
      },
      "source": [
        "CM[0][0]"
      ],
      "execution_count": null,
      "outputs": [
        {
          "output_type": "execute_result",
          "data": {
            "text/plain": [
              "1159"
            ]
          },
          "metadata": {
            "tags": []
          },
          "execution_count": 23
        }
      ]
    },
    {
      "cell_type": "markdown",
      "metadata": {
        "id": "4R51rrpHriTH"
      },
      "source": [
        "Число объектов класс 0 отнесенных к классу 8"
      ]
    },
    {
      "cell_type": "code",
      "metadata": {
        "colab": {
          "base_uri": "https://localhost:8080/"
        },
        "id": "f2OdQx2HriTH",
        "outputId": "1427f5bf-b2a2-498b-9253-6566cba78d8e"
      },
      "source": [
        "CM[0][8]"
      ],
      "execution_count": null,
      "outputs": [
        {
          "output_type": "execute_result",
          "data": {
            "text/plain": [
              "6"
            ]
          },
          "metadata": {
            "tags": []
          },
          "execution_count": 24
        }
      ]
    }
  ]
}