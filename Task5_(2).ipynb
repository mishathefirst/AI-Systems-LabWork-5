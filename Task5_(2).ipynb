{
  "nbformat": 4,
  "nbformat_minor": 0,
  "metadata": {
    "kernelspec": {
      "display_name": "Python 3",
      "language": "python",
      "name": "python3"
    },
    "language_info": {
      "codemirror_mode": {
        "name": "ipython",
        "version": 3
      },
      "file_extension": ".py",
      "mimetype": "text/x-python",
      "name": "python",
      "nbconvert_exporter": "python",
      "pygments_lexer": "ipython3",
      "version": "3.7.3"
    },
    "colab": {
      "name": "Task5 (2).ipynb",
      "provenance": [],
      "include_colab_link": true
    }
  },
  "cells": [
    {
      "cell_type": "markdown",
      "metadata": {
        "id": "view-in-github",
        "colab_type": "text"
      },
      "source": [
        "<a href=\"https://colab.research.google.com/github/mishathefirst/AI-Systems-LabWork-5/blob/main/Task5_(2).ipynb\" target=\"_parent\"><img src=\"https://colab.research.google.com/assets/colab-badge.svg\" alt=\"Open In Colab\"/></a>"
      ]
    },
    {
      "cell_type": "code",
      "metadata": {
        "colab": {
          "base_uri": "https://localhost:8080/"
        },
        "id": "GqTMZm8JzTtm",
        "outputId": "cc9ec684-1ff3-4617-84bb-6a162f3c1646"
      },
      "source": [
        "!pip install --upgrade pip\n",
        "!pip install --upgrade scikit-learn==0.23.0"
      ],
      "execution_count": null,
      "outputs": [
        {
          "output_type": "stream",
          "text": [
            "Collecting pip\n",
            "\u001b[?25l  Downloading https://files.pythonhosted.org/packages/ab/11/2dc62c5263d9eb322f2f028f7b56cd9d096bb8988fcf82d65fa2e4057afe/pip-20.3.1-py2.py3-none-any.whl (1.5MB)\n",
            "\u001b[K     |████████████████████████████████| 1.5MB 8.2MB/s \n",
            "\u001b[?25hInstalling collected packages: pip\n",
            "  Found existing installation: pip 19.3.1\n",
            "    Uninstalling pip-19.3.1:\n",
            "      Successfully uninstalled pip-19.3.1\n",
            "Successfully installed pip-20.3.1\n",
            "Collecting scikit-learn==0.23.0\n",
            "  Downloading scikit_learn-0.23.0-cp36-cp36m-manylinux1_x86_64.whl (7.3 MB)\n",
            "\u001b[K     |████████████████████████████████| 7.3 MB 7.9 MB/s \n",
            "\u001b[?25hRequirement already satisfied: joblib>=0.11 in /usr/local/lib/python3.6/dist-packages (from scikit-learn==0.23.0) (0.17.0)\n",
            "Requirement already satisfied: scipy>=0.19.1 in /usr/local/lib/python3.6/dist-packages (from scikit-learn==0.23.0) (1.4.1)\n",
            "Requirement already satisfied: numpy>=1.13.3 in /usr/local/lib/python3.6/dist-packages (from scikit-learn==0.23.0) (1.18.5)\n",
            "Requirement already satisfied: numpy>=1.13.3 in /usr/local/lib/python3.6/dist-packages (from scikit-learn==0.23.0) (1.18.5)\n",
            "Collecting threadpoolctl>=2.0.0\n",
            "  Downloading threadpoolctl-2.1.0-py3-none-any.whl (12 kB)\n",
            "Installing collected packages: threadpoolctl, scikit-learn\n",
            "  Attempting uninstall: scikit-learn\n",
            "    Found existing installation: scikit-learn 0.22.2.post1\n",
            "    Uninstalling scikit-learn-0.22.2.post1:\n",
            "      Successfully uninstalled scikit-learn-0.22.2.post1\n",
            "Successfully installed scikit-learn-0.23.0 threadpoolctl-2.1.0\n"
          ],
          "name": "stdout"
        }
      ]
    },
    {
      "cell_type": "code",
      "metadata": {
        "id": "EByyJyYAzTtr"
      },
      "source": [
        "import numpy as np\n",
        "import matplotlib\n",
        "import matplotlib.pyplot as plt\n",
        "%matplotlib inline"
      ],
      "execution_count": null,
      "outputs": []
    },
    {
      "cell_type": "markdown",
      "metadata": {
        "id": "I2ljqziszTtr"
      },
      "source": [
        "MNIST - датасет образцов рукописного написания цифр, является стандартом, предложенным Национальным институтом стандартов и технологий США с целью калибрации и сопоставления методов распознавания изображений с помощью машинного обучения. Образцы из набора NIST были нормализированы, прошли сглаживание и приведены к серому полутоновому изображению размером 28x28 пикселей. "
      ]
    },
    {
      "cell_type": "code",
      "metadata": {
        "colab": {
          "base_uri": "https://localhost:8080/"
        },
        "id": "oFigYyljzTts",
        "outputId": "46b925d2-c30a-4abc-caf8-90a8e3464f6c"
      },
      "source": [
        "from keras.datasets import mnist\n",
        "(X_train, y_train), (X_pred, y_pred) = mnist.load_data()"
      ],
      "execution_count": null,
      "outputs": [
        {
          "output_type": "stream",
          "text": [
            "Downloading data from https://storage.googleapis.com/tensorflow/tf-keras-datasets/mnist.npz\n",
            "11493376/11490434 [==============================] - 0s 0us/step\n"
          ],
          "name": "stdout"
        }
      ]
    },
    {
      "cell_type": "markdown",
      "metadata": {
        "id": "bQATWYcwzTts"
      },
      "source": [
        "Первый элемент"
      ]
    },
    {
      "cell_type": "code",
      "metadata": {
        "colab": {
          "base_uri": "https://localhost:8080/",
          "height": 298
        },
        "id": "HtOAWYztzTts",
        "outputId": "9e5f001e-fbd1-46c6-8226-8320d900d77f"
      },
      "source": [
        "plt.title(\"Нулевой объект из тренировочного набора:\")\n",
        "plt.imshow(X_train[0], cmap=\"gray\")"
      ],
      "execution_count": null,
      "outputs": [
        {
          "output_type": "execute_result",
          "data": {
            "text/plain": [
              "<matplotlib.image.AxesImage at 0x7f048ae5c080>"
            ]
          },
          "metadata": {
            "tags": []
          },
          "execution_count": 5
        },
        {
          "output_type": "display_data",
          "data": {
            "image/png": "[encoded data removed]",
            "text/plain": [
              "<Figure size 432x288 with 1 Axes>"
            ]
          },
          "metadata": {
            "tags": [],
            "needs_background": "light"
          }
        }
      ]
    },
    {
      "cell_type": "markdown",
      "metadata": {
        "id": "ESjCE1tRzTtt"
      },
      "source": [
        "И его отклик"
      ]
    },
    {
      "cell_type": "code",
      "metadata": {
        "colab": {
          "base_uri": "https://localhost:8080/"
        },
        "id": "2-W6IcV9zTtt",
        "outputId": "d0f87214-310a-4dd4-e2a4-5f53b60ffc6c"
      },
      "source": [
        "y_train[0]"
      ],
      "execution_count": null,
      "outputs": [
        {
          "output_type": "execute_result",
          "data": {
            "text/plain": [
              "5"
            ]
          },
          "metadata": {
            "tags": []
          },
          "execution_count": 6
        }
      ]
    },
    {
      "cell_type": "markdown",
      "metadata": {
        "id": "LFdnIGIBzTtt"
      },
      "source": [
        "Для разделения данных используем функцию train_test_split из библиотеки sklearn. Следующий код разделяет исходные данные в отношении 70/30."
      ]
    },
    {
      "cell_type": "code",
      "metadata": {
        "id": "RrBBkc_6zTtt"
      },
      "source": [
        "from sklearn.model_selection import train_test_split\n",
        "\n",
        "X_train, X_test, y_train, y_test = train_test_split(X_train, y_train, test_size=0.3, random_state=2020)\n"
      ],
      "execution_count": null,
      "outputs": []
    },
    {
      "cell_type": "markdown",
      "metadata": {
        "id": "BjLBXP8fzTtu"
      },
      "source": [
        "Преобразуем данные"
      ]
    },
    {
      "cell_type": "code",
      "metadata": {
        "id": "wpiS4WjuzTtu"
      },
      "source": [
        "dim = 784 # 28*28 \n",
        "X_train = X_train.reshape(len(X_train), dim)\n",
        "X_test = X_test.reshape(len(X_test), dim)"
      ],
      "execution_count": null,
      "outputs": []
    },
    {
      "cell_type": "markdown",
      "metadata": {
        "id": "L2TRZ42szTtu"
      },
      "source": [
        "Уменьшим размерность тестовых данных"
      ]
    },
    {
      "cell_type": "code",
      "metadata": {
        "id": "z5JnUA1izTtu"
      },
      "source": [
        "from sklearn.decomposition import PCA\n",
        "\n",
        "pca = PCA(n_components=80, svd_solver='full')\n",
        "modelPCA = pca.fit(X_train) \n",
        "\n",
        "X_train = modelPCA.transform(X_train)\n",
        "\n"
      ],
      "execution_count": null,
      "outputs": []
    },
    {
      "cell_type": "markdown",
      "metadata": {
        "id": "VL7UNPE9zTtu"
      },
      "source": [
        "Найдем долю объясненной дисперсии в зависимости от количества используемых ГК"
      ]
    },
    {
      "cell_type": "code",
      "metadata": {
        "colab": {
          "base_uri": "https://localhost:8080/"
        },
        "id": "gw8GTHjSzTtu",
        "outputId": "97ad920f-565e-49f2-8fb7-0d845f2dd2ca"
      },
      "source": [
        "explained_variance = np.round(np.cumsum(pca.explained_variance_ratio_),3)\n",
        "explained_variance\n"
      ],
      "execution_count": null,
      "outputs": [
        {
          "output_type": "execute_result",
          "data": {
            "text/plain": [
              "array([0.098, 0.168, 0.23 , 0.284, 0.333, 0.375, 0.408, 0.437, 0.464,\n",
              "       0.488, 0.509, 0.53 , 0.547, 0.564, 0.579, 0.594, 0.608, 0.62 ,\n",
              "       0.632, 0.644, 0.654, 0.664, 0.674, 0.683, 0.692, 0.7  , 0.708,\n",
              "       0.716, 0.724, 0.731, 0.737, 0.744, 0.75 , 0.756, 0.761, 0.767,\n",
              "       0.772, 0.777, 0.781, 0.786, 0.791, 0.795, 0.799, 0.803, 0.807,\n",
              "       0.811, 0.815, 0.818, 0.821, 0.825, 0.828, 0.831, 0.834, 0.837,\n",
              "       0.84 , 0.842, 0.845, 0.848, 0.85 , 0.853, 0.855, 0.858, 0.86 ,\n",
              "       0.862, 0.864, 0.866, 0.868, 0.87 , 0.872, 0.874, 0.876, 0.878,\n",
              "       0.879, 0.881, 0.883, 0.885, 0.886, 0.888, 0.889, 0.891])"
            ]
          },
          "metadata": {
            "tags": []
          },
          "execution_count": 10
        }
      ]
    },
    {
      "cell_type": "code",
      "metadata": {
        "colab": {
          "base_uri": "https://localhost:8080/"
        },
        "id": "4OF9APne2sg2",
        "outputId": "2dc16cbe-0f72-4f50-b681-4a1796f0d90c"
      },
      "source": [
        "\r\n",
        "for i in range(80):\r\n",
        "  if (explained_variance[i] > 0.819):\r\n",
        "    print (explained_variance[i])\r\n",
        "    print (i)"
      ],
      "execution_count": null,
      "outputs": [
        {
          "output_type": "stream",
          "text": [
            "0.821\n",
            "48\n",
            "0.825\n",
            "49\n",
            "0.828\n",
            "50\n",
            "0.831\n",
            "51\n",
            "0.834\n",
            "52\n",
            "0.837\n",
            "53\n",
            "0.84\n",
            "54\n",
            "0.842\n",
            "55\n",
            "0.845\n",
            "56\n",
            "0.848\n",
            "57\n",
            "0.85\n",
            "58\n",
            "0.853\n",
            "59\n",
            "0.855\n",
            "60\n",
            "0.858\n",
            "61\n",
            "0.86\n",
            "62\n",
            "0.862\n",
            "63\n",
            "0.864\n",
            "64\n",
            "0.866\n",
            "65\n",
            "0.868\n",
            "66\n",
            "0.87\n",
            "67\n",
            "0.872\n",
            "68\n",
            "0.874\n",
            "69\n",
            "0.876\n",
            "70\n",
            "0.878\n",
            "71\n",
            "0.879\n",
            "72\n",
            "0.881\n",
            "73\n",
            "0.883\n",
            "74\n",
            "0.885\n",
            "75\n",
            "0.886\n",
            "76\n",
            "0.888\n",
            "77\n",
            "0.889\n",
            "78\n",
            "0.891\n",
            "79\n"
          ],
          "name": "stdout"
        }
      ]
    },
    {
      "cell_type": "code",
      "metadata": {
        "colab": {
          "base_uri": "https://localhost:8080/",
          "height": 282
        },
        "id": "Ve9j4rqwzTtv",
        "outputId": "5f23efe2-fac1-4cc8-bf92-be520be0ca1e"
      },
      "source": [
        "plt.plot(np.arange(80), explained_variance, ls = '-')"
      ],
      "execution_count": null,
      "outputs": [
        {
          "output_type": "execute_result",
          "data": {
            "text/plain": [
              "[<matplotlib.lines.Line2D at 0x7f0475b7f7b8>]"
            ]
          },
          "metadata": {
            "tags": []
          },
          "execution_count": 21
        },
        {
          "output_type": "display_data",
          "data": {
            "image/png": "[encoded data removed]",
            "text/plain": [
              "<Figure size 432x288 with 1 Axes>"
            ]
          },
          "metadata": {
            "tags": [],
            "needs_background": "light"
          }
        }
      ]
    },
    {
      "cell_type": "markdown",
      "metadata": {
        "id": "eal8dpEJzTtv"
      },
      "source": [
        "Подключаем библиотеку для обучения многоклассового классификатора методом One-vs-All и дерево принятия решений"
      ]
    },
    {
      "cell_type": "code",
      "metadata": {
        "id": "vwragBBQzTtv"
      },
      "source": [
        "from sklearn.multiclass import OneVsRestClassifier\n",
        "from sklearn.tree import DecisionTreeClassifier\n",
        "from sklearn.ensemble import RandomForestClassifier"
      ],
      "execution_count": null,
      "outputs": []
    },
    {
      "cell_type": "code",
      "metadata": {
        "id": "dFsp08Q0zTtv"
      },
      "source": [
        "tree = RandomForestClassifier(criterion='gini', min_samples_leaf=10, max_depth=20, n_estimators=10, random_state=2020)\n",
        "clf = OneVsRestClassifier(tree).fit(X_train, y_train)"
      ],
      "execution_count": null,
      "outputs": []
    },
    {
      "cell_type": "markdown",
      "metadata": {
        "id": "MPk30eV0zTtv"
      },
      "source": [
        "Примените полученное ранее преобразование метода главных компонент к тестовым данным"
      ]
    },
    {
      "cell_type": "code",
      "metadata": {
        "colab": {
          "base_uri": "https://localhost:8080/"
        },
        "id": "oRSJeMBFzTtw",
        "outputId": "7d9461f5-5964-4b88-d0a7-10c4dbbcdc88"
      },
      "source": [
        "len(X_test[0])"
      ],
      "execution_count": null,
      "outputs": [
        {
          "output_type": "execute_result",
          "data": {
            "text/plain": [
              "784"
            ]
          },
          "metadata": {
            "tags": []
          },
          "execution_count": 25
        }
      ]
    },
    {
      "cell_type": "code",
      "metadata": {
        "id": "mcih23xazTtw"
      },
      "source": [
        "modelPCA = pca.fit(X_test) \n",
        "X_test = modelPCA.transform(X_test)"
      ],
      "execution_count": null,
      "outputs": []
    },
    {
      "cell_type": "code",
      "metadata": {
        "id": "_z4svGqzzTtw"
      },
      "source": [
        "y_pred = clf.predict(X_test)"
      ],
      "execution_count": null,
      "outputs": []
    },
    {
      "cell_type": "code",
      "metadata": {
        "id": "YdgVW56BzTtw"
      },
      "source": [
        "from sklearn.metrics import confusion_matrix\n",
        "CM = confusion_matrix(y_test, y_pred)"
      ],
      "execution_count": null,
      "outputs": []
    },
    {
      "cell_type": "code",
      "metadata": {
        "colab": {
          "base_uri": "https://localhost:8080/"
        },
        "id": "1YznpoNHzTtw",
        "outputId": "46e5735b-10f4-400a-b1bf-67df2fbc8dad"
      },
      "source": [
        "CM"
      ],
      "execution_count": null,
      "outputs": [
        {
          "output_type": "execute_result",
          "data": {
            "text/plain": [
              "array([[1329,    0,   94,   60,    2,   75,   38,   35,   56,    4],\n",
              "       [  11, 1827,   43,   16,   15,    9,   78,   27,   32,   17],\n",
              "       [  84,   10,  860,   66,   31,   90,  469,   13,  122,   18],\n",
              "       [  37,    9,   68, 1467,   20,   92,    9,   34,  106,   31],\n",
              "       [   8,   20,   70,   10, 1252,   18,   81,   47,   73,  177],\n",
              "       [ 169,   13,  128,  255,   57,  580,   16,   40,  306,   27],\n",
              "       [  51,   27,  695,   35,   55,   22,  703,   49,  106,   23],\n",
              "       [  33,   40,   15,   14,   83,   31,   89, 1347,   59,  175],\n",
              "       [  46,   31,  141,  334,   65,  339,   41,   16,  637,  123],\n",
              "       [  20,   22,   34,   54,  468,   51,   54,  198,  258,  665]])"
            ]
          },
          "metadata": {
            "tags": []
          },
          "execution_count": 29
        }
      ]
    },
    {
      "cell_type": "markdown",
      "metadata": {
        "id": "7nYW3hfOzTtw"
      },
      "source": [
        "Число верно классифицирвоанных объектов класс 1"
      ]
    },
    {
      "cell_type": "code",
      "metadata": {
        "colab": {
          "base_uri": "https://localhost:8080/"
        },
        "id": "_nK0VRvozTtx",
        "outputId": "fa75cf2a-5753-4ee4-9f8c-4abca2a1b66b"
      },
      "source": [
        "CM[1][1]"
      ],
      "execution_count": null,
      "outputs": [
        {
          "output_type": "execute_result",
          "data": {
            "text/plain": [
              "1827"
            ]
          },
          "metadata": {
            "tags": []
          },
          "execution_count": 31
        }
      ]
    },
    {
      "cell_type": "markdown",
      "metadata": {
        "id": "QLy35VHAzTtx"
      },
      "source": [
        "Число объектов класс 0 отнесенных к классу 8"
      ]
    },
    {
      "cell_type": "code",
      "metadata": {
        "id": "co9hXPJezTtx",
        "outputId": "acafe462-947d-4594-ff9d-1e8afb01ad34"
      },
      "source": [
        "CM[0][8]"
      ],
      "execution_count": null,
      "outputs": [
        {
          "output_type": "execute_result",
          "data": {
            "text/plain": [
              "30"
            ]
          },
          "metadata": {
            "tags": []
          },
          "execution_count": 32
        }
      ]
    },
    {
      "cell_type": "code",
      "metadata": {
        "colab": {
          "base_uri": "https://localhost:8080/"
        },
        "id": "v2pPA4Nf-_H3",
        "outputId": "5e70165e-6511-4588-cccf-b4b6767b5492"
      },
      "source": [
        "from sklearn.metrics import classification_report\r\n",
        "print(classification_report(y_test, y_pred))"
      ],
      "execution_count": null,
      "outputs": [
        {
          "output_type": "stream",
          "text": [
            "              precision    recall  f1-score   support\n",
            "\n",
            "           0       0.74      0.78      0.76      1693\n",
            "           1       0.91      0.88      0.90      2075\n",
            "           2       0.40      0.49      0.44      1763\n",
            "           3       0.63      0.78      0.70      1873\n",
            "           4       0.61      0.71      0.66      1756\n",
            "           5       0.44      0.36      0.40      1591\n",
            "           6       0.45      0.40      0.42      1766\n",
            "           7       0.75      0.71      0.73      1886\n",
            "           8       0.36      0.36      0.36      1773\n",
            "           9       0.53      0.36      0.43      1824\n",
            "\n",
            "    accuracy                           0.59     18000\n",
            "   macro avg       0.58      0.59      0.58     18000\n",
            "weighted avg       0.59      0.59      0.59     18000\n",
            "\n"
          ],
          "name": "stdout"
        }
      ]
    }
  ]
}